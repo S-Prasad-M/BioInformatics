{
 "cells": [
  {
   "cell_type": "code",
   "execution_count": null,
   "metadata": {},
   "outputs": [],
   "source": [
    "import random\n",
    "import toyplot"
   ]
  },
  {
   "cell_type": "code",
   "execution_count": null,
   "metadata": {},
   "outputs": [],
   "source": [
    "def get_kmer_count_from_sequence(sequence, k=3, cyclic=True):\n",
    "    \"\"\"\n",
    "    Returns dictionary with keys representing all possible kmers in a sequence\n",
    "    and values counting their occurrence in the sequence.\n",
    "    \"\"\"\n",
    "    # dict to store kmers\n",
    "    kmers = {}\n",
    "    \n",
    "    # count how many times each occurred in this sequence (treated as cyclic)\n",
    "    for i in range(0, len(sequence)):\n",
    "        kmer = sequence[i:i + k]\n",
    "        \n",
    "        # for cyclic sequence get kmers that wrap from end to beginning\n",
    "        length = len(kmer)\n",
    "        if cyclic:\n",
    "            if len(kmer) != k:\n",
    "                kmer += sequence[:(k - length)]\n",
    "        \n",
    "        # if not cyclic then skip kmers at end of sequence\n",
    "        else:\n",
    "            if len(kmer) != k:\n",
    "                continue\n",
    "        \n",
    "        # count occurrence of this kmer in sequence\n",
    "        if kmer in kmers:\n",
    "            kmers[kmer] += 1\n",
    "        else:\n",
    "            kmers[kmer] = 1\n",
    "    \n",
    "    return kmers"
   ]
  },
  {
   "cell_type": "code",
   "execution_count": null,
   "metadata": {},
   "outputs": [],
   "source": [
    "def get_debruijn_edges_from_kmers(kmers):\n",
    "    \"\"\"\n",
    "    Every possible (k-1)mer (n-1 suffix and prefix of kmers) is assigned\n",
    "    to a node, and we connect one node to another if the (k-1)mer overlaps \n",
    "    another. Nodes are (k-1)mers, edges are kmers.\n",
    "    \"\"\"\n",
    "    # store edges as tuples in a set\n",
    "    edges = set()\n",
    "    \n",
    "    # compare each (k-1)mer\n",
    "    for k1 in kmers:\n",
    "        for k2 in kmers:\n",
    "            if k1 != k2:            \n",
    "                # if they overlap then add to edges\n",
    "                if k1[1:] == k2[:-1]:\n",
    "                    edges.add((k1[:-1], k2[:-1]))\n",
    "                if k1[:-1] == k2[1:]:\n",
    "                    edges.add((k2[:-1], k1[:-1]))\n",
    "\n",
    "    return edges"
   ]
  },
  {
   "cell_type": "code",
   "execution_count": null,
   "metadata": {},
   "outputs": [],
   "source": [
    "def plot_debruijn_graph(edges, width=500, height=500):\n",
    "    \"returns a toyplot graph from an input of edges\"\n",
    "    graph = toyplot.graph(\n",
    "        [i[0] for i in edges],\n",
    "        [i[1] for i in edges],\n",
    "        width=width,\n",
    "        height=height,\n",
    "        tmarker=\">\", \n",
    "        vsize=25,\n",
    "        vstyle={\"stroke\": \"black\", \"stroke-width\": 2, \"fill\": \"none\"},\n",
    "        vlstyle={\"font-size\": \"11px\"},\n",
    "        estyle={\"stroke\": \"black\", \"stroke-width\": 2},\n",
    "        layout=toyplot.layout.FruchtermanReingold(edges=toyplot.layout.CurvedEdges()))\n",
    "    return graph"
   ]
  },
  {
   "cell_type": "code",
   "execution_count": null,
   "metadata": {},
   "outputs": [],
   "source": [
    "genome1 = 'AGATGAATGG'\n",
    "genome"
   ]
  },
  {
   "cell_type": "code",
   "execution_count": null,
   "metadata": {},
   "outputs": [],
   "source": [
    "kmers = get_kmer_count_from_sequence(genome1, k=3)\n",
    "kmers"
   ]
  }
 ],
 "metadata": {
  "language_info": {
   "name": "python"
  }
 },
 "nbformat": 4,
 "nbformat_minor": 2
}
